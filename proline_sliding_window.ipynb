{
 "cells": [
  {
   "cell_type": "code",
   "execution_count": 1,
   "id": "numerous-exclusion",
   "metadata": {},
   "outputs": [],
   "source": [
    "from Bio.Seq import Seq\n",
    "from Bio.SeqRecord import SeqRecord\n",
    "from Bio import SeqIO\n",
    "import pandas as pd\n",
    "import seaborn as sns\n",
    "import matplotlib.pyplot as plt\n",
    "plt.rcParams['figure.dpi'] = 300\n",
    "\n",
    "def get_seq(path):\n",
    "    path = \"../data/alignments/Pol-seq/\" + path \n",
    "    with open(path) as fasta_file:  # Will close handle cleanly\n",
    "        for seq_record in SeqIO.parse(fasta_file, \"fasta\"):  # (generator)\n",
    "            seq = \"\".join(seq_record.seq)\n",
    "    return(seq)\n",
    "\n",
    "def sliding_window(elements, window_size):\n",
    "    if len(elements) <= window_size:\n",
    "        return elements\n",
    "    window = []\n",
    "    for i in range(len(elements) - window_size + 1):\n",
    "        window.append(elements[i:i+window_size])\n",
    "    return(window)\n",
    "\n",
    "def create_df(seq, window_size):\n",
    "    window     = sliding_window(seq.upper(), window_size)\n",
    "    P_count    = [i.count(\"P\") for i in window]\n",
    "    window_num = [i for i in range(len(window))]\n",
    "    return(window, window_num, P_count)\n",
    "\n",
    "def create_sliding_window_df(df, seq_col, taxa_col):\n",
    "    window = []; window_num = []; P_count = []; seq_id = []\n",
    "\n",
    "    for i, row in df.iterrows():\n",
    "        seq = row[seq_col]    \n",
    "        window_i, window_num_i, P_count_i = create_df(seq, window_size= 25)\n",
    "        seq_id_i = [row[taxa_col]]*len(window_i)\n",
    "\n",
    "\n",
    "        window.extend(window_i)\n",
    "        window_num.extend(window_num_i)\n",
    "        P_count.extend(P_count_i)\n",
    "        seq_id.extend(seq_id_i)\n",
    "\n",
    "    \n",
    "    df = pd.DataFrame({\"window_seq\": window, \"species\": seq_id,\n",
    "                       \"window\": window_num, \"Proline count\": P_count})\n",
    "    return(df)\n",
    "\n",
    "def create_alignment_df(align_path, align_format):\n",
    "    with open(align_path) as fasta_file:  # Will close handle cleanly\n",
    "        identifiers = []\n",
    "        lengths = []\n",
    "        seqs = []\n",
    "        for seq_record in SeqIO.parse(fasta_file, align_format):  # (generator)\n",
    "            identifiers.append(seq_record.description)\n",
    "            lengths.append(len(seq_record.seq))\n",
    "            seqs.append(\"\".join(seq_record.seq))\n",
    "        df = pd.DataFrame({\"id\": identifiers, \"lengths\": lengths, \"full_seq\": seqs})\n",
    "    return(df)"
   ]
  },
  {
   "cell_type": "code",
   "execution_count": 2,
   "id": "greater-attention",
   "metadata": {},
   "outputs": [],
   "source": [
    "# file with species and taxa assignment\n",
    "align_assign = pd.read_csv(\"/n/groups/marks/projects/HBV_pol/data/alignments/Yingpu_March2023/seq_taxa_assignment_Yingpu.csv\")"
   ]
  },
  {
   "cell_type": "code",
   "execution_count": 3,
   "id": "cosmetic-stylus",
   "metadata": {},
   "outputs": [],
   "source": [
    "#read in hepadna sequence alignment\n",
    "fasta_path = \"/n/groups/marks/projects/HBV_pol/data/alignments/Yingpu_March2023/RT-RNaseH-aligned_yyu_clean.fa\"\n",
    "fasta = create_alignment_df(fasta_path, \"fasta\" )"
   ]
  },
  {
   "cell_type": "code",
   "execution_count": 4,
   "id": "rural-checkout",
   "metadata": {},
   "outputs": [],
   "source": [
    "#remove gaps\n",
    "fasta['seq_nogap'] = fasta.full_seq.str.replace(\"-\", \"\")\n",
    "#get species name\n",
    "fasta[\"Species\"] = [i.split(\" (\")[0] for i in fasta.id]"
   ]
  },
  {
   "cell_type": "code",
   "execution_count": 5,
   "id": "natural-sleep",
   "metadata": {},
   "outputs": [],
   "source": [
    "#sliding window calculation\n",
    "fasta_df = create_sliding_window_df(fasta, \"seq_nogap\", \"Species\")"
   ]
  },
  {
   "cell_type": "code",
   "execution_count": 6,
   "id": "falling-bonus",
   "metadata": {},
   "outputs": [],
   "source": [
    "df = fasta_df.merge(align_assign, left_on = 'species', right_on = 'Species')"
   ]
  },
  {
   "cell_type": "code",
   "execution_count": 7,
   "id": "conscious-excellence",
   "metadata": {},
   "outputs": [],
   "source": [
    "window_corr = []\n",
    "for i,row in df.iterrows():\n",
    "    t = row.species\n",
    "    s_max = df[df.species == t].window.max()\n",
    "    diff  = df.window.max() - s_max\n",
    "\n",
    "    window_corr.append(row[\"window\"] + diff)\n",
    "df[\"window_corr\"] = window_corr\n",
    "\n",
    "df = df.drop(\"species\", axis = 1)\n",
    "df = df.rename(columns = {\"window\": \"window_left_align\", \"window_corr\": \"window_right_align\"} )"
   ]
  },
  {
   "cell_type": "code",
   "execution_count": null,
   "id": "substantial-characterization",
   "metadata": {},
   "outputs": [],
   "source": [
    "df.to_csv(\"../data/proline_sliding_window_Yingpu_align_April_19_2023.csv\")"
   ]
  }
 ],
 "metadata": {
  "kernelspec": {
   "display_name": "Python 3",
   "language": "python",
   "name": "python3"
  },
  "language_info": {
   "codemirror_mode": {
    "name": "ipython",
    "version": 3
   },
   "file_extension": ".py",
   "mimetype": "text/x-python",
   "name": "python",
   "nbconvert_exporter": "python",
   "pygments_lexer": "ipython3",
   "version": "3.8.2"
  }
 },
 "nbformat": 4,
 "nbformat_minor": 5
}
